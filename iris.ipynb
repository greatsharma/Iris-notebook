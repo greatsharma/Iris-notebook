{
  "nbformat": 4,
  "nbformat_minor": 0,
  "metadata": {
    "colab": {
      "name": "Iris.ipynb",
      "provenance": [],
      "collapsed_sections": [
        "u3wNG3reGns1"
      ]
    },
    "kernelspec": {
      "display_name": "Python 3",
      "language": "python",
      "name": "python3"
    }
  },
  "cells": [
    {
      "cell_type": "code",
      "metadata": {
        "id": "2WYnyiomGnn3",
        "colab_type": "code",
        "colab": {}
      },
      "source": [
        "from sklearn.datasets import load_iris\n",
        "\n",
        "iris_data = load_iris()"
      ],
      "execution_count": 0,
      "outputs": []
    },
    {
      "cell_type": "code",
      "metadata": {
        "id": "M8mWOd61Gnn8",
        "colab_type": "code",
        "outputId": "6d50d9c5-8e9f-4858-c107-57e0d439f98a",
        "colab": {
          "base_uri": "https://localhost:8080/",
          "height": 35
        }
      },
      "source": [
        "iris_data.keys()"
      ],
      "execution_count": 0,
      "outputs": [
        {
          "output_type": "execute_result",
          "data": {
            "text/plain": [
              "dict_keys(['data', 'target', 'target_names', 'DESCR', 'feature_names', 'filename'])"
            ]
          },
          "metadata": {
            "tags": []
          },
          "execution_count": 2
        }
      ]
    },
    {
      "cell_type": "code",
      "metadata": {
        "id": "Qlsxs6pYGnoD",
        "colab_type": "code",
        "colab": {}
      },
      "source": [
        "# print(iris_data.DESCR)  # for details of dataset"
      ],
      "execution_count": 0,
      "outputs": []
    },
    {
      "cell_type": "code",
      "metadata": {
        "id": "QGtsAT6PGnoG",
        "colab_type": "code",
        "outputId": "3292e988-56c2-4fea-ed59-79fb16d0a023",
        "colab": {
          "base_uri": "https://localhost:8080/",
          "height": 90
        }
      },
      "source": [
        "iris_data.feature_names"
      ],
      "execution_count": 0,
      "outputs": [
        {
          "output_type": "execute_result",
          "data": {
            "text/plain": [
              "['sepal length (cm)',\n",
              " 'sepal width (cm)',\n",
              " 'petal length (cm)',\n",
              " 'petal width (cm)']"
            ]
          },
          "metadata": {
            "tags": []
          },
          "execution_count": 4
        }
      ]
    },
    {
      "cell_type": "code",
      "metadata": {
        "id": "7FuZX8KlGnoL",
        "colab_type": "code",
        "colab": {}
      },
      "source": [
        "from sklearn.model_selection import train_test_split\n",
        "\n",
        "X_train, X_test, y_train, y_test = train_test_split(iris_data['data'], iris_data['target'], test_size=0.25, random_state=0)"
      ],
      "execution_count": 0,
      "outputs": []
    },
    {
      "cell_type": "code",
      "metadata": {
        "id": "LOoxDwpqKjMW",
        "colab_type": "code",
        "outputId": "cac1113e-325f-44eb-99e0-60535d49206d",
        "colab": {
          "base_uri": "https://localhost:8080/",
          "height": 121
        }
      },
      "source": [
        "y_train"
      ],
      "execution_count": 0,
      "outputs": [
        {
          "output_type": "execute_result",
          "data": {
            "text/plain": [
              "array([1, 1, 2, 0, 2, 0, 0, 1, 2, 2, 2, 2, 1, 2, 1, 1, 2, 2, 2, 2, 1, 2,\n",
              "       1, 0, 2, 1, 1, 1, 1, 2, 0, 0, 2, 1, 0, 0, 1, 0, 2, 1, 0, 1, 2, 1,\n",
              "       0, 2, 2, 2, 2, 0, 0, 2, 2, 0, 2, 0, 2, 2, 0, 0, 2, 0, 0, 0, 1, 2,\n",
              "       2, 0, 0, 0, 1, 1, 0, 0, 1, 0, 2, 1, 2, 1, 0, 2, 0, 2, 0, 0, 2, 0,\n",
              "       2, 1, 1, 1, 2, 2, 1, 1, 0, 1, 2, 2, 0, 1, 1, 1, 1, 0, 0, 0, 2, 1,\n",
              "       2, 0])"
            ]
          },
          "metadata": {
            "tags": []
          },
          "execution_count": 3
        }
      ]
    },
    {
      "cell_type": "code",
      "metadata": {
        "id": "AoVzDi1XGnoO",
        "colab_type": "code",
        "outputId": "dc082abd-7c7f-41de-fdb9-e759fc91eafa",
        "colab": {
          "base_uri": "https://localhost:8080/",
          "height": 604
        }
      },
      "source": [
        "import pandas as pd\n",
        "from pandas import plotting as pdplt\n",
        "\n",
        "iris_df = pd.DataFrame(X_train,columns=iris_data['feature_names'])\n",
        "vis = pdplt.scatter_matrix(iris_df, c=y_train, diagonal='hist', figsize=[10,10], marker='O', alpha=0.5, s=40, hist_kwds={'bins':20})"
      ],
      "execution_count": 0,
      "outputs": [
        {
          "output_type": "display_data",
          "data": {
            "image/png": "[encoded data removed]",
            "text/plain": [
              "<Figure size 720x720 with 16 Axes>"
            ]
          },
          "metadata": {
            "tags": []
          }
        }
      ]
    },
    {
      "cell_type": "code",
      "metadata": {
        "id": "aOZPqDDiGnoR",
        "colab_type": "code",
        "outputId": "38c1aed5-9c6d-4c45-e04a-bfa097784674",
        "colab": {
          "base_uri": "https://localhost:8080/",
          "height": 35
        }
      },
      "source": [
        "from sklearn.neighbors import KNeighborsClassifier\n",
        "\n",
        "knn = KNeighborsClassifier(n_neighbors=1)\n",
        "knn.fit(X_train,y_train)\n",
        "\n",
        "perc_accu = knn.score(X_test,y_test) * 100\n",
        "print(f\"perc accu : {perc_accu}\")\n"
      ],
      "execution_count": 0,
      "outputs": [
        {
          "output_type": "stream",
          "text": [
            "perc accu : 97.36842105263158\n"
          ],
          "name": "stdout"
        }
      ]
    },
    {
      "cell_type": "markdown",
      "metadata": {
        "id": "b0cK0K_8GnoX",
        "colab_type": "text"
      },
      "source": [
        "##### So using all 4 features we get 97% accuracy which is great but now let's reduce the feature space from 4D to 2D and let's see how well we do"
      ]
    },
    {
      "cell_type": "markdown",
      "metadata": {
        "id": "IxrryVRjGnoZ",
        "colab_type": "text"
      },
      "source": [
        "#### as the above scatter matrix clearly shows that if we just take petal's length and width then the model is very easily separable"
      ]
    },
    {
      "cell_type": "code",
      "metadata": {
        "id": "2xrSiQwHGnoa",
        "colab_type": "code",
        "colab": {}
      },
      "source": [
        "iris_data = load_iris()"
      ],
      "execution_count": 0,
      "outputs": []
    },
    {
      "cell_type": "code",
      "metadata": {
        "id": "QGmBAkKaGnoe",
        "colab_type": "code",
        "colab": {}
      },
      "source": [
        "iris_data.data = iris_data.data[:, 2:]\n",
        "iris_data.feature_names = iris_data.feature_names[2:]"
      ],
      "execution_count": 0,
      "outputs": []
    },
    {
      "cell_type": "code",
      "metadata": {
        "id": "63B7Dr9uGnoh",
        "colab_type": "code",
        "outputId": "7563757d-ba2b-4250-9b29-6c7d313e0db1",
        "colab": {
          "base_uri": "https://localhost:8080/",
          "height": 35
        }
      },
      "source": [
        "iris_data.feature_names"
      ],
      "execution_count": 0,
      "outputs": [
        {
          "output_type": "execute_result",
          "data": {
            "text/plain": [
              "['petal length (cm)', 'petal width (cm)']"
            ]
          },
          "metadata": {
            "tags": []
          },
          "execution_count": 12
        }
      ]
    },
    {
      "cell_type": "code",
      "metadata": {
        "id": "BJNhbZpcGnom",
        "colab_type": "code",
        "colab": {}
      },
      "source": [
        "X_train, X_test, y_train, y_test = train_test_split(iris_data.data,iris_data.target,test_size=0.25,random_state=0)"
      ],
      "execution_count": 0,
      "outputs": []
    },
    {
      "cell_type": "code",
      "metadata": {
        "id": "nywVjsw1Gnor",
        "colab_type": "code",
        "outputId": "b648eeab-83b5-4769-9b1b-cc9f8138c3d3",
        "colab": {
          "base_uri": "https://localhost:8080/",
          "height": 445
        }
      },
      "source": [
        "iris_df = pd.DataFrame(X_train,columns=iris_data['feature_names'])\n",
        "vis = pdplt.scatter_matrix(iris_df, c=y_train, diagonal='hist', figsize=[7,7], marker='O', alpha=0.5, s=40, hist_kwds={'bins':20})"
      ],
      "execution_count": 0,
      "outputs": [
        {
          "output_type": "display_data",
          "data": {
            "image/png": "[encoded data removed]",
            "text/plain": [
              "<Figure size 504x504 with 4 Axes>"
            ]
          },
          "metadata": {
            "tags": []
          }
        }
      ]
    },
    {
      "cell_type": "code",
      "metadata": {
        "id": "T7pxUdtPGnov",
        "colab_type": "code",
        "outputId": "ce7fd19f-7235-4d64-bcd0-bc9ae2ee72fc",
        "colab": {
          "base_uri": "https://localhost:8080/",
          "height": 35
        }
      },
      "source": [
        "from sklearn.neighbors import KNeighborsClassifier\n",
        "\n",
        "knn = KNeighborsClassifier(n_neighbors=1)\n",
        "knn.fit(X_train,y_train)\n",
        "\n",
        "perc_accu = knn.score(X_test,y_test) * 100\n",
        "print(f\"perc accu : {perc_accu}\")\n"
      ],
      "execution_count": 0,
      "outputs": [
        {
          "output_type": "stream",
          "text": [
            "perc accu : 97.36842105263158\n"
          ],
          "name": "stdout"
        }
      ]
    },
    {
      "cell_type": "markdown",
      "metadata": {
        "id": "-C-6_ATIGnoz",
        "colab_type": "text"
      },
      "source": [
        "##### So using just 2D feature space we get max accuracy of 97% which is exact same as 4D feature space gives us, so this tells us that the other two features are just redundant and adding just nothing to our model"
      ]
    },
    {
      "cell_type": "code",
      "metadata": {
        "id": "WRIulZ55Gno0",
        "colab_type": "code",
        "colab": {}
      },
      "source": [
        "iris_data = load_iris()"
      ],
      "execution_count": 0,
      "outputs": []
    },
    {
      "cell_type": "code",
      "metadata": {
        "id": "cpk-cHKnGno5",
        "colab_type": "code",
        "colab": {}
      },
      "source": [
        "iris_data.data = iris_data.data[:, 1:3]\n",
        "iris_data.feature_names = iris_data.feature_names[1:3]"
      ],
      "execution_count": 0,
      "outputs": []
    },
    {
      "cell_type": "code",
      "metadata": {
        "id": "TF8i1lYhGno9",
        "colab_type": "code",
        "outputId": "2f0821ec-a5a4-4c4c-d3a8-5af620188089",
        "colab": {
          "base_uri": "https://localhost:8080/",
          "height": 35
        }
      },
      "source": [
        "iris_data.feature_names"
      ],
      "execution_count": 0,
      "outputs": [
        {
          "output_type": "execute_result",
          "data": {
            "text/plain": [
              "['sepal width (cm)', 'petal length (cm)']"
            ]
          },
          "metadata": {
            "tags": []
          },
          "execution_count": 18
        }
      ]
    },
    {
      "cell_type": "code",
      "metadata": {
        "id": "g78JaRwzGnqC",
        "colab_type": "code",
        "colab": {}
      },
      "source": [
        "X_train, X_test, y_train, y_test = train_test_split(iris_data.data,iris_data.target,test_size=0.25,random_state=0)"
      ],
      "execution_count": 0,
      "outputs": []
    },
    {
      "cell_type": "code",
      "metadata": {
        "id": "SOUEh8vZGnqK",
        "colab_type": "code",
        "outputId": "f28b1149-a4e7-4fda-89dd-733611c0bd09",
        "colab": {
          "base_uri": "https://localhost:8080/",
          "height": 445
        }
      },
      "source": [
        "iris_df = pd.DataFrame(X_train,columns=iris_data['feature_names'])\n",
        "vis = pdplt.scatter_matrix(iris_df, c=y_train, diagonal='hist', figsize=[7,7], marker='O', alpha=0.5, s=40, hist_kwds={'bins':20})"
      ],
      "execution_count": 0,
      "outputs": [
        {
          "output_type": "display_data",
          "data": {
            "image/png": "[encoded data removed]",
            "text/plain": [
              "<Figure size 504x504 with 4 Axes>"
            ]
          },
          "metadata": {
            "tags": []
          }
        }
      ]
    },
    {
      "cell_type": "code",
      "metadata": {
        "id": "X1LB_YOWGnqO",
        "colab_type": "code",
        "outputId": "ee97b6d0-0cce-4614-c3ec-29fc7a83ce99",
        "colab": {
          "base_uri": "https://localhost:8080/",
          "height": 35
        }
      },
      "source": [
        "from sklearn.neighbors import KNeighborsClassifier\n",
        "\n",
        "knn = KNeighborsClassifier(n_neighbors=1)\n",
        "knn.fit(X_train,y_train)\n",
        "\n",
        "perc_accu = knn.score(X_test,y_test) * 100\n",
        "print(f\"perc accu : {perc_accu}\")\n"
      ],
      "execution_count": 0,
      "outputs": [
        {
          "output_type": "stream",
          "text": [
            "perc accu : 89.47368421052632\n"
          ],
          "name": "stdout"
        }
      ]
    },
    {
      "cell_type": "markdown",
      "metadata": {
        "id": "WHF1y2sIGnqS",
        "colab_type": "text"
      },
      "source": [
        "#### similarly we can also take petal length and sepal length"
      ]
    },
    {
      "cell_type": "code",
      "metadata": {
        "id": "bfiXxfR2GnqT",
        "colab_type": "code",
        "colab": {}
      },
      "source": [
        "iris_data=load_iris()"
      ],
      "execution_count": 0,
      "outputs": []
    },
    {
      "cell_type": "code",
      "metadata": {
        "id": "lbwW-S7LGnqW",
        "colab_type": "code",
        "colab": {}
      },
      "source": [
        "iris_data.data = iris_data.data[:, [0,2]]\n",
        "iris_data.feature_names = [iris_data.feature_names[i] for i in range(4) if i%2 == 0]"
      ],
      "execution_count": 0,
      "outputs": []
    },
    {
      "cell_type": "code",
      "metadata": {
        "id": "CZ1MF3ZTGnqZ",
        "colab_type": "code",
        "outputId": "1ff43401-5df4-41e6-d029-bbb3165a0c19",
        "colab": {
          "base_uri": "https://localhost:8080/",
          "height": 35
        }
      },
      "source": [
        "iris_data.feature_names"
      ],
      "execution_count": 0,
      "outputs": [
        {
          "output_type": "execute_result",
          "data": {
            "text/plain": [
              "['sepal length (cm)', 'petal length (cm)']"
            ]
          },
          "metadata": {
            "tags": []
          },
          "execution_count": 24
        }
      ]
    },
    {
      "cell_type": "code",
      "metadata": {
        "id": "jkM6Y4xGGnqd",
        "colab_type": "code",
        "colab": {}
      },
      "source": [
        "X_train, X_test, y_train, y_test = train_test_split(iris_data.data,iris_data.target,test_size=0.25,random_state=0)"
      ],
      "execution_count": 0,
      "outputs": []
    },
    {
      "cell_type": "code",
      "metadata": {
        "id": "mNajGAksGnqj",
        "colab_type": "code",
        "outputId": "fa4d697d-3c01-4c0a-ea0b-9ea872390a6a",
        "colab": {
          "base_uri": "https://localhost:8080/",
          "height": 437
        }
      },
      "source": [
        "iris_df = pd.DataFrame(X_train,columns=iris_data['feature_names'])\n",
        "vis = pdplt.scatter_matrix(iris_df, c=y_train, diagonal='hist', figsize=[7,7], marker='O', alpha=0.5, s=40, hist_kwds={'bins':20})"
      ],
      "execution_count": 0,
      "outputs": [
        {
          "output_type": "display_data",
          "data": {
            "image/png": "[encoded data removed]",
            "text/plain": [
              "<Figure size 504x504 with 4 Axes>"
            ]
          },
          "metadata": {
            "tags": []
          }
        }
      ]
    },
    {
      "cell_type": "code",
      "metadata": {
        "id": "bHZp6vrjGnqn",
        "colab_type": "code",
        "outputId": "6f68b613-f5bb-4230-fe6e-d50b926fd368",
        "colab": {
          "base_uri": "https://localhost:8080/",
          "height": 35
        }
      },
      "source": [
        "from sklearn.neighbors import KNeighborsClassifier\n",
        "\n",
        "knn = KNeighborsClassifier(n_neighbors=1)\n",
        "knn.fit(X_train,y_train)\n",
        "\n",
        "perc_accu = knn.score(X_test,y_test) * 100\n",
        "print(f\"perc accu : {perc_accu}\")\n"
      ],
      "execution_count": 0,
      "outputs": [
        {
          "output_type": "stream",
          "text": [
            "perc accu : 94.73684210526315\n"
          ],
          "name": "stdout"
        }
      ]
    },
    {
      "cell_type": "markdown",
      "metadata": {
        "id": "T41jpYuEsFoN",
        "colab_type": "text"
      },
      "source": [
        "#### similarly we can also take sepal's length and width"
      ]
    },
    {
      "cell_type": "code",
      "metadata": {
        "id": "OIWDTsXfsN_B",
        "colab_type": "code",
        "colab": {}
      },
      "source": [
        "iris_data = load_iris()"
      ],
      "execution_count": 0,
      "outputs": []
    },
    {
      "cell_type": "code",
      "metadata": {
        "id": "KaHVuNfdsOM_",
        "colab_type": "code",
        "colab": {}
      },
      "source": [
        "iris_data.data = iris_data.data[:, [0,1]]\n",
        "iris_data.feature_names = [iris_data.feature_names[i] for i in range(4) if i <= 1]"
      ],
      "execution_count": 0,
      "outputs": []
    },
    {
      "cell_type": "code",
      "metadata": {
        "id": "9t6yDzGnsOn3",
        "colab_type": "code",
        "outputId": "baea95f7-a6a1-4c8a-cb23-42b9e819851e",
        "colab": {
          "base_uri": "https://localhost:8080/",
          "height": 35
        }
      },
      "source": [
        "iris_data.feature_names"
      ],
      "execution_count": 0,
      "outputs": [
        {
          "output_type": "execute_result",
          "data": {
            "text/plain": [
              "['sepal length (cm)', 'sepal width (cm)']"
            ]
          },
          "metadata": {
            "tags": []
          },
          "execution_count": 210
        }
      ]
    },
    {
      "cell_type": "code",
      "metadata": {
        "id": "RWBhAkpFsOkQ",
        "colab_type": "code",
        "colab": {}
      },
      "source": [
        "X_train, X_test, y_train, y_test = train_test_split(iris_data.data,iris_data.target,test_size=0.25,random_state=0)"
      ],
      "execution_count": 0,
      "outputs": []
    },
    {
      "cell_type": "code",
      "metadata": {
        "id": "03LfKJXYsOhM",
        "colab_type": "code",
        "outputId": "b1c85f72-fc2a-49e2-de6a-ea4e139ee05e",
        "colab": {
          "base_uri": "https://localhost:8080/",
          "height": 445
        }
      },
      "source": [
        "iris_df = pd.DataFrame(X_train,columns=iris_data['feature_names'])\n",
        "vis = pdplt.scatter_matrix(iris_df, c=y_train, diagonal='hist', figsize=[7,7], marker='O', alpha=0.5, s=40, hist_kwds={'bins':20})"
      ],
      "execution_count": 0,
      "outputs": [
        {
          "output_type": "display_data",
          "data": {
            "image/png": "[encoded data removed]",
            "text/plain": [
              "<Figure size 504x504 with 4 Axes>"
            ]
          },
          "metadata": {
            "tags": []
          }
        }
      ]
    },
    {
      "cell_type": "code",
      "metadata": {
        "id": "ldtdcyRcsOeL",
        "colab_type": "code",
        "outputId": "c8715951-c71e-4613-c302-a827785147ea",
        "colab": {
          "base_uri": "https://localhost:8080/",
          "height": 35
        }
      },
      "source": [
        "from sklearn.neighbors import KNeighborsClassifier\n",
        "\n",
        "knn = KNeighborsClassifier(n_neighbors=1)\n",
        "knn.fit(X_train,y_train)\n",
        "\n",
        "perc_accu = knn.score(X_test,y_test) * 100\n",
        "print(f\"perc accu : {perc_accu}\")\n"
      ],
      "execution_count": 0,
      "outputs": [
        {
          "output_type": "stream",
          "text": [
            "perc accu : 71.05263157894737\n"
          ],
          "name": "stdout"
        }
      ]
    },
    {
      "cell_type": "markdown",
      "metadata": {
        "id": "6sgW-OrAGnqs",
        "colab_type": "text"
      },
      "source": [
        "#### Now as from the top most scatter matrix it is clearly evident that sepal's length and sepal's width are the worst pair to classify the dataset so when we use that as the feature than we get worse results"
      ]
    },
    {
      "cell_type": "code",
      "metadata": {
        "id": "0QvqIeKnGnqt",
        "colab_type": "code",
        "colab": {}
      },
      "source": [
        "iris_data = load_iris()"
      ],
      "execution_count": 0,
      "outputs": []
    },
    {
      "cell_type": "code",
      "metadata": {
        "id": "7ClgEXSkGnqw",
        "colab_type": "code",
        "colab": {}
      },
      "source": [
        "iris_data.data = iris_data.data[:, :2]\n",
        "iris_data.feature_names = iris_data.feature_names[:2]"
      ],
      "execution_count": 0,
      "outputs": []
    },
    {
      "cell_type": "code",
      "metadata": {
        "id": "KKWttOqGGnqz",
        "colab_type": "code",
        "outputId": "cdea33f2-b7d9-46a3-86da-076a610706a6",
        "colab": {
          "base_uri": "https://localhost:8080/",
          "height": 35
        }
      },
      "source": [
        "iris_data.feature_names"
      ],
      "execution_count": 0,
      "outputs": [
        {
          "output_type": "execute_result",
          "data": {
            "text/plain": [
              "['sepal length (cm)', 'sepal width (cm)']"
            ]
          },
          "metadata": {
            "tags": []
          },
          "execution_count": 30
        }
      ]
    },
    {
      "cell_type": "code",
      "metadata": {
        "id": "zdoc8WSfGnq4",
        "colab_type": "code",
        "colab": {}
      },
      "source": [
        "X_train, X_test, y_train, y_test = train_test_split(iris_data.data,iris_data.target,test_size=0.25,random_state=0)"
      ],
      "execution_count": 0,
      "outputs": []
    },
    {
      "cell_type": "code",
      "metadata": {
        "id": "R9zvJxOiGnq8",
        "colab_type": "code",
        "outputId": "e81ec7ae-7df8-4be0-fa46-28869eec99e9",
        "colab": {
          "base_uri": "https://localhost:8080/",
          "height": 445
        }
      },
      "source": [
        "iris_df = pd.DataFrame(X_train,columns=iris_data['feature_names'])\n",
        "vis = pdplt.scatter_matrix(iris_df, c=y_train, diagonal='hist', figsize=[7,7], marker='O', alpha=0.5, s=40, hist_kwds={'bins':20})"
      ],
      "execution_count": 0,
      "outputs": [
        {
          "output_type": "display_data",
          "data": {
            "image/png": "[encoded data removed]",
            "text/plain": [
              "<Figure size 504x504 with 4 Axes>"
            ]
          },
          "metadata": {
            "tags": []
          }
        }
      ]
    },
    {
      "cell_type": "code",
      "metadata": {
        "id": "fJLiibNnGnrA",
        "colab_type": "code",
        "outputId": "00716eba-47a1-4a3a-8177-8e6544b6beae",
        "colab": {
          "base_uri": "https://localhost:8080/",
          "height": 35
        }
      },
      "source": [
        "from sklearn.neighbors import KNeighborsClassifier\n",
        "\n",
        "knn = KNeighborsClassifier(n_neighbors=1)\n",
        "knn.fit(X_train,y_train)\n",
        "\n",
        "perc_accu = knn.score(X_test,y_test) * 100\n",
        "print(f\"perc accu : {perc_accu}\")\n"
      ],
      "execution_count": 0,
      "outputs": [
        {
          "output_type": "stream",
          "text": [
            "perc accu : 71.05263157894737\n"
          ],
          "name": "stdout"
        }
      ]
    },
    {
      "cell_type": "markdown",
      "metadata": {
        "id": "rE1DArm0GnrE",
        "colab_type": "text"
      },
      "source": [
        "#### Until now we are dealing with 2D feature space and are succefully get great results but now try to reduce the feature space further i.e., further from 2D to 1D"
      ]
    },
    {
      "cell_type": "code",
      "metadata": {
        "id": "k44VXiqgGnrF",
        "colab_type": "code",
        "colab": {}
      },
      "source": [
        "iris_data=load_iris()"
      ],
      "execution_count": 0,
      "outputs": []
    },
    {
      "cell_type": "code",
      "metadata": {
        "id": "HV6ErjgRGnrH",
        "colab_type": "code",
        "outputId": "5fdbaadd-8945-4217-abc0-2b29ba702f62",
        "colab": {
          "base_uri": "https://localhost:8080/",
          "height": 35
        }
      },
      "source": [
        "iris_data.target_names"
      ],
      "execution_count": 0,
      "outputs": [
        {
          "output_type": "execute_result",
          "data": {
            "text/plain": [
              "array(['setosa', 'versicolor', 'virginica'], dtype='<U10')"
            ]
          },
          "metadata": {
            "tags": []
          },
          "execution_count": 35
        }
      ]
    },
    {
      "cell_type": "code",
      "metadata": {
        "id": "ntwtu0Y3GnrL",
        "colab_type": "code",
        "outputId": "6ba04205-196e-4d18-d44c-7b0f0d162c68",
        "colab": {
          "base_uri": "https://localhost:8080/",
          "height": 225
        }
      },
      "source": [
        "# %matplotlib qt\n",
        "%matplotlib inline\n",
        "import matplotlib.pyplot as plt \n",
        "import numpy as np\n",
        "\n",
        "fig,axes =plt.subplots(1,4, figsize=(14, 3)) # 1 column containing 4 figures of all 4 features\n",
        "\n",
        "setosa=iris_data.data[iris_data.target==0] \n",
        "versicolor=iris_data.data[iris_data.target==1] \n",
        "virginica=iris_data.data[iris_data.target==2] \n",
        "\n",
        "ax=axes.ravel()# flat axes with numpy ravel\n",
        "\n",
        "for i in range(4):\n",
        "    \n",
        "    _,bins=np.histogram(iris_data.data[:,i],bins=40)\n",
        "    \n",
        "    ax[i].hist(setosa[:,i],bins=bins,color='r',alpha=0.5)\n",
        "    ax[i].hist(versicolor[:,i],bins=bins,color='g',alpha=0.5)\n",
        "    ax[i].hist(virginica[:,i],bins=bins,color='b',alpha=0.5)\n",
        "    \n",
        "    ax[i].set_title(iris_data.feature_names[i],fontsize=9)\n",
        "    ax[i].axes.get_xaxis().set_visible(False) # the x-axis co-ordinates are not so useful, as we just want to look how well separated the histograms are\n",
        "    ax[i].set_yticks(())\n",
        "\n",
        "ax[0].legend(['setosa','versicolor','virginica'],loc='best',fontsize=8)\n",
        "plt.tight_layout()\n",
        "\n",
        "plt.show()"
      ],
      "execution_count": 0,
      "outputs": [
        {
          "output_type": "display_data",
          "data": {
            "image/png": "[encoded data removed]",
            "text/plain": [
              "<Figure size 1008x216 with 4 Axes>"
            ]
          },
          "metadata": {
            "tags": []
          }
        }
      ]
    },
    {
      "cell_type": "markdown",
      "metadata": {
        "id": "aJf4mVDOGnrP",
        "colab_type": "text"
      },
      "source": [
        "##### Now from the above histograms it is very clear that petal's width and length are very good features to classify and sepal's both dimensions are very bad for classfying the flowers"
      ]
    },
    {
      "cell_type": "markdown",
      "metadata": {
        "id": "A_x2DbOMGnrQ",
        "colab_type": "text"
      },
      "source": [
        "#### Let's first take petal's length"
      ]
    },
    {
      "cell_type": "code",
      "metadata": {
        "id": "TV4iremgGnrR",
        "colab_type": "code",
        "colab": {}
      },
      "source": [
        "iris_data.data = iris_data.data[:, 2:3]\n",
        "iris_data.feature_names = iris_data.feature_names[2:3]"
      ],
      "execution_count": 0,
      "outputs": []
    },
    {
      "cell_type": "code",
      "metadata": {
        "id": "FK3w-3ZFGnra",
        "colab_type": "code",
        "outputId": "09737206-033f-422d-afef-ccdca05a2107",
        "colab": {
          "base_uri": "https://localhost:8080/",
          "height": 35
        }
      },
      "source": [
        "iris_data.feature_names"
      ],
      "execution_count": 0,
      "outputs": [
        {
          "output_type": "execute_result",
          "data": {
            "text/plain": [
              "['petal length (cm)']"
            ]
          },
          "metadata": {
            "tags": []
          },
          "execution_count": 38
        }
      ]
    },
    {
      "cell_type": "code",
      "metadata": {
        "id": "4rnh2efoGnrg",
        "colab_type": "code",
        "colab": {}
      },
      "source": [
        "X_train, X_test, y_train, y_test = train_test_split(iris_data.data,iris_data.target,test_size=0.25,random_state=0)"
      ],
      "execution_count": 0,
      "outputs": []
    },
    {
      "cell_type": "code",
      "metadata": {
        "id": "BLzBKmeRGnro",
        "colab_type": "code",
        "outputId": "0c7081ed-155d-4ced-b83c-09e7c5661d56",
        "colab": {
          "base_uri": "https://localhost:8080/",
          "height": 35
        }
      },
      "source": [
        "X_train.shape"
      ],
      "execution_count": 0,
      "outputs": [
        {
          "output_type": "execute_result",
          "data": {
            "text/plain": [
              "(112, 1)"
            ]
          },
          "metadata": {
            "tags": []
          },
          "execution_count": 40
        }
      ]
    },
    {
      "cell_type": "code",
      "metadata": {
        "id": "GR5AeAmHGnrt",
        "colab_type": "code",
        "outputId": "c683125f-0f13-4c5f-a7ed-04349f514068",
        "colab": {
          "base_uri": "https://localhost:8080/",
          "height": 35
        }
      },
      "source": [
        "from sklearn.neighbors import KNeighborsClassifier\n",
        "\n",
        "knn = KNeighborsClassifier(n_neighbors=1)\n",
        "knn.fit(X_train,y_train)\n",
        "\n",
        "perc_accu = knn.score(X_test,y_test) * 100\n",
        "print(f\"perc accu : {perc_accu}\")\n"
      ],
      "execution_count": 0,
      "outputs": [
        {
          "output_type": "stream",
          "text": [
            "perc accu : 89.47368421052632\n"
          ],
          "name": "stdout"
        }
      ]
    },
    {
      "cell_type": "markdown",
      "metadata": {
        "id": "mLovnlXHGnrx",
        "colab_type": "text"
      },
      "source": [
        "##### we got 90% accuracy which is not bad as we are dealing with just 1 feature"
      ]
    },
    {
      "cell_type": "markdown",
      "metadata": {
        "id": "zTlx6yicGnry",
        "colab_type": "text"
      },
      "source": [
        "#### Let's first take petal's width"
      ]
    },
    {
      "cell_type": "code",
      "metadata": {
        "id": "2JmjjGqCGnrz",
        "colab_type": "code",
        "colab": {}
      },
      "source": [
        "iris_data=load_iris()"
      ],
      "execution_count": 0,
      "outputs": []
    },
    {
      "cell_type": "code",
      "metadata": {
        "id": "nnSWJ-OrGnr3",
        "colab_type": "code",
        "colab": {}
      },
      "source": [
        "iris_data.data = iris_data.data[:, 3:4]\n",
        "iris_data.feature_names = iris_data.feature_names[-1]"
      ],
      "execution_count": 0,
      "outputs": []
    },
    {
      "cell_type": "code",
      "metadata": {
        "id": "29fHHOokGnr6",
        "colab_type": "code",
        "colab": {}
      },
      "source": [
        "X_train, X_test, y_train, y_test = train_test_split(iris_data.data,iris_data.target,test_size=0.25,random_state=0)"
      ],
      "execution_count": 0,
      "outputs": []
    },
    {
      "cell_type": "code",
      "metadata": {
        "id": "y22M356pGnr9",
        "colab_type": "code",
        "outputId": "6485f1b4-cc66-4482-e979-8e9285e2be57",
        "colab": {
          "base_uri": "https://localhost:8080/",
          "height": 35
        }
      },
      "source": [
        "X_train.shape"
      ],
      "execution_count": 0,
      "outputs": [
        {
          "output_type": "execute_result",
          "data": {
            "text/plain": [
              "(112, 1)"
            ]
          },
          "metadata": {
            "tags": []
          },
          "execution_count": 45
        }
      ]
    },
    {
      "cell_type": "code",
      "metadata": {
        "id": "dhGa2Wy_GnsF",
        "colab_type": "code",
        "outputId": "ec474597-b152-4f0e-86b0-0a1680a3e65a",
        "colab": {
          "base_uri": "https://localhost:8080/",
          "height": 35
        }
      },
      "source": [
        "from sklearn.neighbors import KNeighborsClassifier\n",
        "\n",
        "knn = KNeighborsClassifier(n_neighbors=1)\n",
        "knn.fit(X_train,y_train)\n",
        "\n",
        "perc_accu = knn.score(X_test,y_test) * 100\n",
        "print(f\"perc accu : {perc_accu}\")\n"
      ],
      "execution_count": 0,
      "outputs": [
        {
          "output_type": "stream",
          "text": [
            "perc accu : 78.94736842105263\n"
          ],
          "name": "stdout"
        }
      ]
    },
    {
      "cell_type": "markdown",
      "metadata": {
        "id": "2XAjJcqkGnsJ",
        "colab_type": "text"
      },
      "source": [
        "##### So in this case we got around 80% accuracy although it is indeed low and we will not classify our model using this feauture because it is 10% lower than previous one but if we still think intiutively this feature still doing some good job in classfying the model because if we make a classifier which randomly picks a class from three classes then the accuracy will be 33.33%,  1/3 using basic probability, so as compared to random selection this classifer is way more than double of that accuracy so it's not as bad as it seems to"
      ]
    },
    {
      "cell_type": "markdown",
      "metadata": {
        "id": "VyjLJV_tGnsK",
        "colab_type": "text"
      },
      "source": [
        "#### Let's first take sepal's length"
      ]
    },
    {
      "cell_type": "code",
      "metadata": {
        "id": "_pzRinjxGnsL",
        "colab_type": "code",
        "colab": {}
      },
      "source": [
        "iris_data=load_iris()"
      ],
      "execution_count": 0,
      "outputs": []
    },
    {
      "cell_type": "code",
      "metadata": {
        "id": "wgpmh76YGnsN",
        "colab_type": "code",
        "colab": {}
      },
      "source": [
        "iris_data.data = iris_data.data[:, 0:1]\n",
        "iris_data.feature_names = iris_data.feature_names[0:1]"
      ],
      "execution_count": 0,
      "outputs": []
    },
    {
      "cell_type": "code",
      "metadata": {
        "id": "ku5PfceaGnsR",
        "colab_type": "code",
        "colab": {}
      },
      "source": [
        "X_train, X_test, y_train, y_test = train_test_split(iris_data.data,iris_data.target,test_size=0.25,random_state=0)"
      ],
      "execution_count": 0,
      "outputs": []
    },
    {
      "cell_type": "code",
      "metadata": {
        "id": "ApL0tNGZGnsU",
        "colab_type": "code",
        "outputId": "e89f43c8-21aa-4a20-d674-e805edfd58b6",
        "colab": {
          "base_uri": "https://localhost:8080/",
          "height": 35
        }
      },
      "source": [
        "X_train.shape"
      ],
      "execution_count": 0,
      "outputs": [
        {
          "output_type": "execute_result",
          "data": {
            "text/plain": [
              "(112, 1)"
            ]
          },
          "metadata": {
            "tags": []
          },
          "execution_count": 50
        }
      ]
    },
    {
      "cell_type": "code",
      "metadata": {
        "id": "3iSHm6bgGnsb",
        "colab_type": "code",
        "outputId": "3fb0d9fe-4e57-4dbd-b143-ee2ee908aefe",
        "colab": {
          "base_uri": "https://localhost:8080/",
          "height": 35
        }
      },
      "source": [
        "from sklearn.neighbors import KNeighborsClassifier\n",
        "\n",
        "knn = KNeighborsClassifier(n_neighbors=1)\n",
        "knn.fit(X_train,y_train)\n",
        "\n",
        "perc_accu = knn.score(X_test,y_test) * 100\n",
        "print(f\"perc accu : {perc_accu}\")\n"
      ],
      "execution_count": 0,
      "outputs": [
        {
          "output_type": "stream",
          "text": [
            "perc accu : 47.368421052631575\n"
          ],
          "name": "stdout"
        }
      ]
    },
    {
      "cell_type": "markdown",
      "metadata": {
        "id": "3mTDQ9uhGnsf",
        "colab_type": "text"
      },
      "source": [
        "##### Now this is extremly bad and nothing more than a random selection of 1 from three (whose accuracy is 33.33%) and this is what we expect as the histogram clearly shows that this feature is bad in classfying"
      ]
    },
    {
      "cell_type": "markdown",
      "metadata": {
        "id": "Izv6DWH1Gnsg",
        "colab_type": "text"
      },
      "source": [
        "#### Let's first take sepal's width"
      ]
    },
    {
      "cell_type": "code",
      "metadata": {
        "id": "DFeZOYVlGnsh",
        "colab_type": "code",
        "colab": {}
      },
      "source": [
        "iris_data=load_iris()"
      ],
      "execution_count": 0,
      "outputs": []
    },
    {
      "cell_type": "code",
      "metadata": {
        "id": "DlP6nlNmGnsl",
        "colab_type": "code",
        "colab": {}
      },
      "source": [
        "iris_data.data = iris_data.data[:, 1:2]\n",
        "iris_data.feature_names = iris_data.feature_names[1]"
      ],
      "execution_count": 0,
      "outputs": []
    },
    {
      "cell_type": "code",
      "metadata": {
        "id": "GonaZfa6Gnso",
        "colab_type": "code",
        "outputId": "f3cd277d-0338-4386-9a7f-e58fafcb3923",
        "colab": {
          "base_uri": "https://localhost:8080/",
          "height": 35
        }
      },
      "source": [
        "iris_data.feature_names"
      ],
      "execution_count": 0,
      "outputs": [
        {
          "output_type": "execute_result",
          "data": {
            "text/plain": [
              "'sepal width (cm)'"
            ]
          },
          "metadata": {
            "tags": []
          },
          "execution_count": 54
        }
      ]
    },
    {
      "cell_type": "code",
      "metadata": {
        "id": "ciqpMbTQGnsr",
        "colab_type": "code",
        "colab": {}
      },
      "source": [
        "X_train, X_test, y_train, y_test = train_test_split(iris_data.data,iris_data.target,test_size=0.25,random_state=0)"
      ],
      "execution_count": 0,
      "outputs": []
    },
    {
      "cell_type": "code",
      "metadata": {
        "id": "m1_UiE91Gnsv",
        "colab_type": "code",
        "outputId": "7c83d4ca-a12c-48cf-9a43-e7ef009f10e1",
        "colab": {
          "base_uri": "https://localhost:8080/",
          "height": 35
        }
      },
      "source": [
        "X_train.shape"
      ],
      "execution_count": 0,
      "outputs": [
        {
          "output_type": "execute_result",
          "data": {
            "text/plain": [
              "(112, 1)"
            ]
          },
          "metadata": {
            "tags": []
          },
          "execution_count": 56
        }
      ]
    },
    {
      "cell_type": "code",
      "metadata": {
        "id": "1uqcU9QJGnsy",
        "colab_type": "code",
        "outputId": "9c738d05-4647-43f4-c46f-0db9e679da77",
        "colab": {
          "base_uri": "https://localhost:8080/",
          "height": 35
        }
      },
      "source": [
        "from sklearn.neighbors import KNeighborsClassifier\n",
        "\n",
        "knn = KNeighborsClassifier(n_neighbors=1)\n",
        "knn.fit(X_train,y_train)\n",
        "\n",
        "perc_accu = knn.score(X_test,y_test) * 100\n",
        "print(f\"perc accu : {perc_accu}\")\n"
      ],
      "execution_count": 0,
      "outputs": [
        {
          "output_type": "stream",
          "text": [
            "perc accu : 50.0\n"
          ],
          "name": "stdout"
        }
      ]
    },
    {
      "cell_type": "markdown",
      "metadata": {
        "id": "_IBkPds_Gns0",
        "colab_type": "text"
      },
      "source": [
        "##### and in this case also we get expected results"
      ]
    },
    {
      "cell_type": "markdown",
      "metadata": {
        "id": "u3wNG3reGns1",
        "colab_type": "text"
      },
      "source": [
        "#### Until now we are just making our hands dirty on our own visualization using scatter_matrix and histograms but now it's time for using some magic and the magic we our going to use is PCA and SVD"
      ]
    },
    {
      "cell_type": "markdown",
      "metadata": {
        "id": "JY_z3JBjGns3",
        "colab_type": "text"
      },
      "source": [
        "### LET'S FIRST LOOK AT PCA"
      ]
    },
    {
      "cell_type": "code",
      "metadata": {
        "id": "DFGK4eo9Gns5",
        "colab_type": "code",
        "colab": {}
      },
      "source": [
        "iris_data = load_iris()"
      ],
      "execution_count": 0,
      "outputs": []
    },
    {
      "cell_type": "code",
      "metadata": {
        "id": "-rmSfPalGns9",
        "colab_type": "code",
        "outputId": "4c612ab8-cb1f-40e8-a38c-320282962ef9",
        "colab": {
          "base_uri": "https://localhost:8080/",
          "height": 35
        }
      },
      "source": [
        "# Variance ratio of the four features\n",
        "ex_variance=np.var(iris_data.data,axis=0)\n",
        "ex_variance_ratio = ex_variance/np.sum(ex_variance)\n",
        "\n",
        "print( ex_variance_ratio )"
      ],
      "execution_count": 0,
      "outputs": [
        {
          "output_type": "stream",
          "text": [
            "[0.14994532 0.04154411 0.68145793 0.12705264]\n"
          ],
          "name": "stdout"
        }
      ]
    },
    {
      "cell_type": "code",
      "metadata": {
        "id": "7WwXSldzGntA",
        "colab_type": "code",
        "colab": {}
      },
      "source": [
        "X_train, X_test, y_train, y_test = train_test_split(iris_data.data,iris_data.target,test_size=0.25,random_state=0)"
      ],
      "execution_count": 0,
      "outputs": []
    },
    {
      "cell_type": "code",
      "metadata": {
        "id": "2daAcR02GntC",
        "colab_type": "code",
        "outputId": "deafb59a-0931-479c-b47e-95acd8ca20e8",
        "colab": {
          "base_uri": "https://localhost:8080/",
          "height": 35
        }
      },
      "source": [
        "from sklearn.decomposition import PCA\n",
        "\n",
        "\"\"\"\n",
        "initial 4 features will be combined to make the best 3 principal components\n",
        "these are not features but are principal compnents generated from the original 4 features\n",
        "these principal components are some complex mixture of those 4 features\n",
        "\"\"\"\n",
        "\n",
        "pca = PCA(n_components=3)\n",
        "pca.fit(X_train)\n",
        "X_pca = pca.transform(X_train)\n",
        "X_test = pca.transform(X_test)\n",
        "\n",
        "print(\"shape of X_pca\", X_pca.shape)"
      ],
      "execution_count": 0,
      "outputs": [
        {
          "output_type": "stream",
          "text": [
            "shape of X_pca (112, 3)\n"
          ],
          "name": "stdout"
        }
      ]
    },
    {
      "cell_type": "code",
      "metadata": {
        "id": "mK6xLMSlhhOB",
        "colab_type": "code",
        "outputId": "e3019fe0-48b3-439e-8385-bbcbe92692a4",
        "colab": {
          "base_uri": "https://localhost:8080/",
          "height": 35
        }
      },
      "source": [
        "pca.explained_variance_ratio_"
      ],
      "execution_count": 0,
      "outputs": [
        {
          "output_type": "execute_result",
          "data": {
            "text/plain": [
              "array([0.92743115, 0.05245721, 0.01557205])"
            ]
          },
          "metadata": {
            "tags": []
          },
          "execution_count": 182
        }
      ]
    },
    {
      "cell_type": "markdown",
      "metadata": {
        "id": "WPi-o9PPkcil",
        "colab_type": "text"
      },
      "source": [
        "##### the following matrix is the exact composition of features to form the PCs"
      ]
    },
    {
      "cell_type": "code",
      "metadata": {
        "id": "36KilCJng0J4",
        "colab_type": "code",
        "outputId": "b2b14426-7249-4d45-e162-807a40ea51d2",
        "colab": {
          "base_uri": "https://localhost:8080/",
          "height": 72
        }
      },
      "source": [
        "pca.components_"
      ],
      "execution_count": 0,
      "outputs": [
        {
          "output_type": "execute_result",
          "data": {
            "text/plain": [
              "array([[ 0.37649644, -0.06637905,  0.85134571,  0.35924188],\n",
              "       [ 0.6240207 ,  0.75538031, -0.18479376, -0.07648543],\n",
              "       [-0.60667794,  0.57674603,  0.08522779,  0.54040922]])"
            ]
          },
          "metadata": {
            "tags": []
          },
          "execution_count": 178
        }
      ]
    },
    {
      "cell_type": "code",
      "metadata": {
        "id": "BSmguamLjD3n",
        "colab_type": "code",
        "outputId": "1698a424-d0a9-450e-85bb-7eac9df155d3",
        "colab": {
          "base_uri": "https://localhost:8080/",
          "height": 138
        }
      },
      "source": [
        "df = pd.DataFrame(pca.components_, columns=iris_data.feature_names)\n",
        "df"
      ],
      "execution_count": 0,
      "outputs": [
        {
          "output_type": "execute_result",
          "data": {
            "text/html": [
              "<div>\n",
              "<style scoped>\n",
              "    .dataframe tbody tr th:only-of-type {\n",
              "        vertical-align: middle;\n",
              "    }\n",
              "\n",
              "    .dataframe tbody tr th {\n",
              "        vertical-align: top;\n",
              "    }\n",
              "\n",
              "    .dataframe thead th {\n",
              "        text-align: right;\n",
              "    }\n",
              "</style>\n",
              "<table border=\"1\" class=\"dataframe\">\n",
              "  <thead>\n",
              "    <tr style=\"text-align: right;\">\n",
              "      <th></th>\n",
              "      <th>sepal length (cm)</th>\n",
              "      <th>sepal width (cm)</th>\n",
              "      <th>petal length (cm)</th>\n",
              "      <th>petal width (cm)</th>\n",
              "    </tr>\n",
              "  </thead>\n",
              "  <tbody>\n",
              "    <tr>\n",
              "      <th>0</th>\n",
              "      <td>0.376496</td>\n",
              "      <td>-0.066379</td>\n",
              "      <td>0.851346</td>\n",
              "      <td>0.359242</td>\n",
              "    </tr>\n",
              "    <tr>\n",
              "      <th>1</th>\n",
              "      <td>0.624021</td>\n",
              "      <td>0.755380</td>\n",
              "      <td>-0.184794</td>\n",
              "      <td>-0.076485</td>\n",
              "    </tr>\n",
              "    <tr>\n",
              "      <th>2</th>\n",
              "      <td>-0.606678</td>\n",
              "      <td>0.576746</td>\n",
              "      <td>0.085228</td>\n",
              "      <td>0.540409</td>\n",
              "    </tr>\n",
              "  </tbody>\n",
              "</table>\n",
              "</div>"
            ],
            "text/plain": [
              "   sepal length (cm)  sepal width (cm)  petal length (cm)  petal width (cm)\n",
              "0           0.376496         -0.066379           0.851346          0.359242\n",
              "1           0.624021          0.755380          -0.184794         -0.076485\n",
              "2          -0.606678          0.576746           0.085228          0.540409"
            ]
          },
          "metadata": {
            "tags": []
          },
          "execution_count": 187
        }
      ]
    },
    {
      "cell_type": "markdown",
      "metadata": {
        "id": "N40q0ksokBGq",
        "colab_type": "text"
      },
      "source": [
        "##### The following plot shows that how the PC's are composed with the given features as shown in above table, this is a magical composition of all features in different proportion which gives us these PC's which suited the model best"
      ]
    },
    {
      "cell_type": "code",
      "metadata": {
        "id": "jYFZC5EFj1zf",
        "colab_type": "code",
        "outputId": "da6040f2-6e95-40f3-b030-646553d887d3",
        "colab": {
          "base_uri": "https://localhost:8080/",
          "height": 375
        }
      },
      "source": [
        "\"\"\"\n",
        "these 3 principal components are some complex mixture of those 4 features\n",
        "heat-plot to see how the features mixed up to create the components.\n",
        "\"\"\"\n",
        "\n",
        "plt.matshow(pca.components_,cmap='viridis')\n",
        "plt.yticks([0,1,2],['PC1','PC2','PC3'],fontsize=10)\n",
        "plt.colorbar()\n",
        "plt.xticks(range(len(iris_data.feature_names)),iris_data.feature_names,rotation=65,ha='left')\n",
        "plt.tight_layout()\n",
        "plt.show()"
      ],
      "execution_count": 0,
      "outputs": [
        {
          "output_type": "stream",
          "text": [
            "/usr/local/lib/python3.6/dist-packages/matplotlib/figure.py:2366: UserWarning: This figure includes Axes that are not compatible with tight_layout, so results might be incorrect.\n",
            "  warnings.warn(\"This figure includes Axes that are not compatible \"\n"
          ],
          "name": "stderr"
        },
        {
          "output_type": "display_data",
          "data": {
            "image/png": "[encoded data removed]",
            "text/plain": [
              "<Figure size 384x288 with 2 Axes>"
            ]
          },
          "metadata": {
            "tags": []
          }
        }
      ]
    },
    {
      "cell_type": "code",
      "metadata": {
        "id": "WNxC7AFJiM9d",
        "colab_type": "code",
        "outputId": "334ee799-88f0-4904-ae44-d430e6636f2a",
        "colab": {
          "base_uri": "https://localhost:8080/",
          "height": 35
        }
      },
      "source": [
        "pca.singular_values_"
      ],
      "execution_count": 0,
      "outputs": [
        {
          "output_type": "execute_result",
          "data": {
            "text/plain": [
              "array([22.23515693,  5.28812784,  2.88119225])"
            ]
          },
          "metadata": {
            "tags": []
          },
          "execution_count": 186
        }
      ]
    },
    {
      "cell_type": "markdown",
      "metadata": {
        "id": "R0gcKKXopb2m",
        "colab_type": "text"
      },
      "source": [
        "##### Below is a covariance heatmap, diagonals are the variance of that indexed feature more this variance is the more powerful is that individual feature for classifying data and the off-digonal are the relation/variance between the features i.e., how one feature vary with other feautre lower this covariance is better those features are as those feature are more likely to be orthogonal and both contributes individually"
      ]
    },
    {
      "cell_type": "code",
      "metadata": {
        "id": "IEJFjoPJl1GQ",
        "colab_type": "code",
        "outputId": "86546ff0-6c28-475e-e7df-a77516d096f6",
        "colab": {
          "base_uri": "https://localhost:8080/",
          "height": 289
        }
      },
      "source": [
        "import seaborn as sns\n",
        "\"\"\"\n",
        " the corvariation heatmap of features\n",
        "\"\"\"\n",
        "\n",
        "df_iris = pd.DataFrame(iris_data.data,columns=iris_data.feature_names)\n",
        "s=sns.heatmap(df_iris.cov(),cmap='coolwarm')\n",
        "s.set_yticklabels(s.get_yticklabels(),rotation=30,fontsize=7)\n",
        "s.set_xticklabels(s.get_xticklabels(),rotation=30,fontsize=7)\n",
        "\n",
        "plt.show()"
      ],
      "execution_count": 0,
      "outputs": [
        {
          "output_type": "display_data",
          "data": {
            "image/png": "[encoded data removed]",
            "text/plain": [
              "<Figure size 432x288 with 2 Axes>"
            ]
          },
          "metadata": {
            "tags": []
          }
        }
      ]
    },
    {
      "cell_type": "code",
      "metadata": {
        "id": "YHI1sihekssL",
        "colab_type": "code",
        "outputId": "9e6a29a7-05ac-46c3-bc42-5e969885c3d7",
        "colab": {
          "base_uri": "https://localhost:8080/",
          "height": 90
        }
      },
      "source": [
        "pca.get_covariance()"
      ],
      "execution_count": 0,
      "outputs": [
        {
          "output_type": "execute_result",
          "data": {
            "text/plain": [
              "array([[ 0.75918838, -0.02083172,  1.39139318,  0.57112452],\n",
              "       [-0.02083172,  0.19026705, -0.27999356, -0.10247426],\n",
              "       [ 1.39139318, -0.27999356,  3.24250965,  1.36125483],\n",
              "       [ 0.57112452, -0.10247426,  1.36125483,  0.61062741]])"
            ]
          },
          "metadata": {
            "tags": []
          },
          "execution_count": 191
        }
      ]
    },
    {
      "cell_type": "markdown",
      "metadata": {
        "id": "P9v4rzopqMzt",
        "colab_type": "text"
      },
      "source": [
        "##### As the most darkest spot on the digonal is the petal's length hence this is the feature which dominates our model i.e., most of the the data is varied due to petal's length and it also being verified by our previous results because using petal's length as the only predictor for the model we get around 90% accuracy.\n",
        "##### Then in the off-diagonal petal length and petal width covar is highest which tells that they are highly related i.e., if one increases then other increases and same for decrease and also this pair has the highest covar hence classify data better than any other pair and we also saw that at the very begining"
      ]
    },
    {
      "cell_type": "markdown",
      "metadata": {
        "id": "ErXUKAPsGntH",
        "colab_type": "text"
      },
      "source": [
        "##### last PC contributes less so we take first two"
      ]
    },
    {
      "cell_type": "code",
      "metadata": {
        "id": "TFYZGd-KGntH",
        "colab_type": "code",
        "colab": {}
      },
      "source": [
        "X_pca = X_pca[:, 0:2]\n",
        "X_test = X_test[:, 0:2]"
      ],
      "execution_count": 0,
      "outputs": []
    },
    {
      "cell_type": "code",
      "metadata": {
        "id": "zzKNxq3OGntK",
        "colab_type": "code",
        "outputId": "647c2230-3f79-42f9-b9b2-9243fe9f6952",
        "colab": {
          "base_uri": "https://localhost:8080/",
          "height": 35
        }
      },
      "source": [
        "from sklearn.neighbors import KNeighborsClassifier\n",
        "\n",
        "knn = KNeighborsClassifier(n_neighbors=4)\n",
        "knn.fit(X_pca,y_train)\n",
        "\n",
        "perc_accu = knn.score(X_test,y_test) * 100\n",
        "print(f\"perc accu : {perc_accu}\")\n"
      ],
      "execution_count": 0,
      "outputs": [
        {
          "output_type": "stream",
          "text": [
            "perc accu : 97.36842105263158\n"
          ],
          "name": "stdout"
        }
      ]
    },
    {
      "cell_type": "markdown",
      "metadata": {
        "id": "6TJy-EOlR6G6",
        "colab_type": "text"
      },
      "source": [
        "##### The below plot clearly shows that how the first two PC's seperates the three classes in different slots which makes a clear decision boundary between them leads to an easy and efficient classification"
      ]
    },
    {
      "cell_type": "code",
      "metadata": {
        "id": "FHOAThVsGntM",
        "colab_type": "code",
        "outputId": "924b9a98-2718-406b-9763-d83e422f60bf",
        "colab": {
          "base_uri": "https://localhost:8080/",
          "height": 265
        }
      },
      "source": [
        "fig = plt.figure()\n",
        "ax1 = fig.add_subplot(111)\n",
        "\n",
        "f1x=list()\n",
        "f1y=list()\n",
        "f2x=list()\n",
        "f2y=list()\n",
        "f3x=list()\n",
        "f3y=list()\n",
        "\n",
        "Xax=X_pca[:,0]\n",
        "Yax=X_pca[:,1]\n",
        "# Yax = [i for i in range(len(Xax))]\n",
        "\n",
        "for (i,j) in zip(Xax,Yax):\n",
        "    \n",
        "    var = knn.predict([[i,j]])\n",
        "    \n",
        "    if var==0:\n",
        "        f1x.append(i)\n",
        "        f1y.append(j)\n",
        "        \n",
        "    elif var==1:\n",
        "        f2x.append(i)\n",
        "        f2y.append(j)\n",
        "        \n",
        "    else:\n",
        "        f3x.append(i)\n",
        "        f3y.append(j)\n",
        "        \n",
        "ax1.scatter(f1y, f1x, s=40, alpha=0.4, c='b', marker=\"*\", label='setosa')\n",
        "ax1.scatter(f2y, f2x, s=40, alpha=0.4, c='r', marker=\"o\", label='versicolor')\n",
        "ax1.scatter(f3y, f3x, s=40, alpha=0.4, c='g', marker=\"+\", label='virginica')\n",
        "\n",
        "plt.show()"
      ],
      "execution_count": 0,
      "outputs": [
        {
          "output_type": "display_data",
          "data": {
            "image/png": "[encoded data removed]",
            "text/plain": [
              "<Figure size 432x288 with 1 Axes>"
            ]
          },
          "metadata": {
            "tags": []
          }
        }
      ]
    },
    {
      "cell_type": "code",
      "metadata": {
        "id": "TQM-58fzGnte",
        "colab_type": "code",
        "outputId": "ed0ed76a-9247-45b3-d125-d85f7de22bb0",
        "colab": {
          "base_uri": "https://localhost:8080/",
          "height": 289
        }
      },
      "source": [
        "import seaborn as sns\n",
        "\"\"\"\n",
        " the correlation heatmap of features\n",
        "\"\"\"\n",
        "\n",
        "df_iris = pd.DataFrame(iris_data.data,columns=iris_data.feature_names)\n",
        "s=sns.heatmap(df_iris.corr(),cmap='coolwarm')\n",
        "s.set_yticklabels(s.get_yticklabels(),rotation=30,fontsize=7)\n",
        "s.set_xticklabels(s.get_xticklabels(),rotation=30,fontsize=7)\n",
        "\n",
        "plt.show()"
      ],
      "execution_count": 0,
      "outputs": [
        {
          "output_type": "display_data",
          "data": {
            "image/png": "[encoded data removed]",
            "text/plain": [
              "<Figure size 432x288 with 2 Axes>"
            ]
          },
          "metadata": {
            "tags": []
          }
        }
      ]
    },
    {
      "cell_type": "markdown",
      "metadata": {
        "id": "W6Pxfaps0gRV",
        "colab_type": "text"
      },
      "source": [
        "##### The heatmap shows that petal length and petal width are the highest correlated pair of distinct features and this was also the case in above cells and petal length and sepal width is the least correlated or closest to orthogonal pair"
      ]
    },
    {
      "cell_type": "markdown",
      "metadata": {
        "id": "rTpbct8uGnth",
        "colab_type": "text"
      },
      "source": [
        "## USING SVD"
      ]
    },
    {
      "cell_type": "code",
      "metadata": {
        "id": "NiEV-nQNGnti",
        "colab_type": "code",
        "colab": {}
      },
      "source": [
        "iris_data = load_iris()"
      ],
      "execution_count": 0,
      "outputs": []
    },
    {
      "cell_type": "markdown",
      "metadata": {
        "id": "CeamICGJJclI",
        "colab_type": "text"
      },
      "source": [
        "### A = USV^T"
      ]
    },
    {
      "cell_type": "code",
      "metadata": {
        "id": "Wc3hpejDJ7uR",
        "colab_type": "code",
        "colab": {}
      },
      "source": [
        "A = iris_data.data"
      ],
      "execution_count": 0,
      "outputs": []
    },
    {
      "cell_type": "code",
      "metadata": {
        "id": "s4sOtexSKXz4",
        "colab_type": "code",
        "outputId": "94d0765f-9906-4b32-d4b8-2d516c26ddb6",
        "colab": {
          "base_uri": "https://localhost:8080/",
          "height": 35
        }
      },
      "source": [
        "A.shape"
      ],
      "execution_count": 0,
      "outputs": [
        {
          "output_type": "execute_result",
          "data": {
            "text/plain": [
              "(150, 4)"
            ]
          },
          "metadata": {
            "tags": []
          },
          "execution_count": 152
        }
      ]
    },
    {
      "cell_type": "code",
      "metadata": {
        "id": "2fkPr0qwGntn",
        "colab_type": "code",
        "colab": {}
      },
      "source": [
        "U , S , VT = np.linalg.svd(A)"
      ],
      "execution_count": 0,
      "outputs": []
    },
    {
      "cell_type": "code",
      "metadata": {
        "id": "Qmea6mHVKJPF",
        "colab_type": "code",
        "outputId": "9aba8758-e80a-474c-a4d4-2dfd4a3221f0",
        "colab": {
          "base_uri": "https://localhost:8080/",
          "height": 35
        }
      },
      "source": [
        "U.shape"
      ],
      "execution_count": 0,
      "outputs": [
        {
          "output_type": "execute_result",
          "data": {
            "text/plain": [
              "(150, 150)"
            ]
          },
          "metadata": {
            "tags": []
          },
          "execution_count": 154
        }
      ]
    },
    {
      "cell_type": "code",
      "metadata": {
        "id": "eUZ4Ys43KLcJ",
        "colab_type": "code",
        "outputId": "24c933b2-9e5b-4ac5-a486-f1e3160ad1c4",
        "colab": {
          "base_uri": "https://localhost:8080/",
          "height": 35
        }
      },
      "source": [
        "VT.shape"
      ],
      "execution_count": 0,
      "outputs": [
        {
          "output_type": "execute_result",
          "data": {
            "text/plain": [
              "(4, 4)"
            ]
          },
          "metadata": {
            "tags": []
          },
          "execution_count": 155
        }
      ]
    },
    {
      "cell_type": "code",
      "metadata": {
        "id": "Cz-DpMmaKMv2",
        "colab_type": "code",
        "outputId": "50926fd8-e7a0-4f69-ba4d-9665ee133c3e",
        "colab": {
          "base_uri": "https://localhost:8080/",
          "height": 35
        }
      },
      "source": [
        "S.shape"
      ],
      "execution_count": 0,
      "outputs": [
        {
          "output_type": "execute_result",
          "data": {
            "text/plain": [
              "(4,)"
            ]
          },
          "metadata": {
            "tags": []
          },
          "execution_count": 156
        }
      ]
    },
    {
      "cell_type": "code",
      "metadata": {
        "id": "qDzicx9sKMsP",
        "colab_type": "code",
        "outputId": "11c87d61-75e8-4c0c-e584-9d309b9295fc",
        "colab": {
          "base_uri": "https://localhost:8080/",
          "height": 35
        }
      },
      "source": [
        "S = np.diag(S)\n",
        "Sig = np.zeros((A.shape), dtype=float)\n",
        "Sig[:S.shape[0], :S.shape[1]] = S\n",
        "\n",
        "Sig.shape"
      ],
      "execution_count": 0,
      "outputs": [
        {
          "output_type": "execute_result",
          "data": {
            "text/plain": [
              "(150, 4)"
            ]
          },
          "metadata": {
            "tags": []
          },
          "execution_count": 157
        }
      ]
    },
    {
      "cell_type": "code",
      "metadata": {
        "id": "fHGdDleIKMqQ",
        "colab_type": "code",
        "outputId": "060b4ce2-95e3-4124-9929-76ca676c3efa",
        "colab": {
          "base_uri": "https://localhost:8080/",
          "height": 90
        }
      },
      "source": [
        "S"
      ],
      "execution_count": 0,
      "outputs": [
        {
          "output_type": "execute_result",
          "data": {
            "text/plain": [
              "array([[95.95991387,  0.        ,  0.        ,  0.        ],\n",
              "       [ 0.        , 17.76103366,  0.        ,  0.        ],\n",
              "       [ 0.        ,  0.        ,  3.46093093,  0.        ],\n",
              "       [ 0.        ,  0.        ,  0.        ,  1.88482631]])"
            ]
          },
          "metadata": {
            "tags": []
          },
          "execution_count": 158
        }
      ]
    },
    {
      "cell_type": "markdown",
      "metadata": {
        "id": "HyxAafiXLihi",
        "colab_type": "text"
      },
      "source": [
        "##### As the first two singular values have very large values as compared to the last two, so we take them and remove the last two from our data"
      ]
    },
    {
      "cell_type": "code",
      "metadata": {
        "id": "FM8mI8gUKMnq",
        "colab_type": "code",
        "outputId": "c2a531f1-72a4-4fa2-fe81-7b2ec6625272",
        "colab": {
          "base_uri": "https://localhost:8080/",
          "height": 35
        }
      },
      "source": [
        "Sig = Sig[:, :2].reshape(150,2)\n",
        "\n",
        "Sig.shape"
      ],
      "execution_count": 0,
      "outputs": [
        {
          "output_type": "execute_result",
          "data": {
            "text/plain": [
              "(150, 2)"
            ]
          },
          "metadata": {
            "tags": []
          },
          "execution_count": 159
        }
      ]
    },
    {
      "cell_type": "code",
      "metadata": {
        "id": "aRHowVAzKMlf",
        "colab_type": "code",
        "colab": {}
      },
      "source": [
        "A_new = np.matmul(U,Sig)"
      ],
      "execution_count": 0,
      "outputs": []
    },
    {
      "cell_type": "code",
      "metadata": {
        "id": "dGOH_91GKLZw",
        "colab_type": "code",
        "outputId": "69f5e55e-f1ff-4bf7-87de-b25bccff388d",
        "colab": {
          "base_uri": "https://localhost:8080/",
          "height": 35
        }
      },
      "source": [
        "A_new.shape"
      ],
      "execution_count": 0,
      "outputs": [
        {
          "output_type": "execute_result",
          "data": {
            "text/plain": [
              "(150, 2)"
            ]
          },
          "metadata": {
            "tags": []
          },
          "execution_count": 161
        }
      ]
    },
    {
      "cell_type": "code",
      "metadata": {
        "id": "jQByWrAeKLX7",
        "colab_type": "code",
        "colab": {}
      },
      "source": [
        "X_train, X_test, y_train, y_test = train_test_split(A_new,iris_data.target,test_size=0.25,random_state=0)"
      ],
      "execution_count": 0,
      "outputs": []
    },
    {
      "cell_type": "code",
      "metadata": {
        "id": "skxRHgs7KLVg",
        "colab_type": "code",
        "outputId": "d8601ca6-0a87-48c4-d0ed-bb04616bb620",
        "colab": {
          "base_uri": "https://localhost:8080/",
          "height": 35
        }
      },
      "source": [
        "X_train.shape"
      ],
      "execution_count": 0,
      "outputs": [
        {
          "output_type": "execute_result",
          "data": {
            "text/plain": [
              "(112, 2)"
            ]
          },
          "metadata": {
            "tags": []
          },
          "execution_count": 163
        }
      ]
    },
    {
      "cell_type": "code",
      "metadata": {
        "id": "Zx7ubHP9KLTO",
        "colab_type": "code",
        "outputId": "65a7eeaf-fbc6-4d85-8fc2-30a3e8ad07dc",
        "colab": {
          "base_uri": "https://localhost:8080/",
          "height": 35
        }
      },
      "source": [
        "from sklearn.neighbors import KNeighborsClassifier\n",
        "\n",
        "knn = KNeighborsClassifier(n_neighbors=1)\n",
        "knn.fit(X_train,y_train)\n",
        "\n",
        "perc_accu = knn.score(X_test,y_test) * 100\n",
        "print(f\"perc accu : {perc_accu}\")\n"
      ],
      "execution_count": 0,
      "outputs": [
        {
          "output_type": "stream",
          "text": [
            "perc accu : 97.36842105263158\n"
          ],
          "name": "stdout"
        }
      ]
    },
    {
      "cell_type": "markdown",
      "metadata": {
        "id": "m9gmpKQtX1z7",
        "colab_type": "text"
      },
      "source": [
        "##### Now we visualize how well the top 2 singular values separates the classes"
      ]
    },
    {
      "cell_type": "code",
      "metadata": {
        "id": "jQnNEgb-XM-o",
        "colab_type": "code",
        "outputId": "91c66e51-af8d-4a34-973b-0615b4f9f8ed",
        "colab": {
          "base_uri": "https://localhost:8080/",
          "height": 265
        }
      },
      "source": [
        "fig = plt.figure()\n",
        "ax1 = fig.add_subplot(111)\n",
        "\n",
        "f1x=list()\n",
        "f1y=list()\n",
        "f2x=list()\n",
        "f2y=list()\n",
        "f3x=list()\n",
        "f3y=list()\n",
        "\n",
        "Xax=X_train[:,0]\n",
        "Yax=X_train[:,1]\n",
        "# Yax = [i for i in range(len(Xax))]\n",
        "\n",
        "for (i,j) in zip(Xax,Yax):\n",
        "    \n",
        "    var = knn.predict([[i,j]])\n",
        "    \n",
        "    if var==0:\n",
        "        f1x.append(i)\n",
        "        f1y.append(j)\n",
        "        \n",
        "    elif var==1:\n",
        "        f2x.append(i)\n",
        "        f2y.append(j)\n",
        "        \n",
        "    else:\n",
        "        f3x.append(i)\n",
        "        f3y.append(j)\n",
        "        \n",
        "ax1.scatter(f1y, f1x, s=40, alpha=0.4, c='b', marker=\"*\", label='setosa')\n",
        "ax1.scatter(f2y, f2x, s=40, alpha=0.4, c='r', marker=\"o\", label='versicolor')\n",
        "ax1.scatter(f3y, f3x, s=40, alpha=0.4, c='g', marker=\"+\", label='virginica')\n",
        "\n",
        "plt.show()"
      ],
      "execution_count": 0,
      "outputs": [
        {
          "output_type": "display_data",
          "data": {
            "image/png": "[encoded data removed]",
            "text/plain": [
              "<Figure size 432x288 with 1 Axes>"
            ]
          },
          "metadata": {
            "tags": []
          }
        }
      ]
    },
    {
      "cell_type": "markdown",
      "metadata": {
        "id": "CzmLBwtwX_RZ",
        "colab_type": "text"
      },
      "source": [
        "##### As it is very clear that our data is very well separates by these top 2 singular values especially setosa"
      ]
    },
    {
      "cell_type": "markdown",
      "metadata": {
        "id": "txRM2kEYPpSX",
        "colab_type": "text"
      },
      "source": [
        "##### Hence we get 97% accuracy using the two largest singular values. Now let's take only the first singular value"
      ]
    },
    {
      "cell_type": "code",
      "metadata": {
        "id": "LUI1VMUOM1Hl",
        "colab_type": "code",
        "outputId": "d642c6a6-42b5-440e-871c-ec72d0b29a89",
        "colab": {
          "base_uri": "https://localhost:8080/",
          "height": 35
        }
      },
      "source": [
        "Sig = Sig[:, :1].reshape(150,1)\n",
        "\n",
        "Sig.shape"
      ],
      "execution_count": 0,
      "outputs": [
        {
          "output_type": "execute_result",
          "data": {
            "text/plain": [
              "(150, 1)"
            ]
          },
          "metadata": {
            "tags": []
          },
          "execution_count": 166
        }
      ]
    },
    {
      "cell_type": "code",
      "metadata": {
        "id": "-FOpofKdM2ZX",
        "colab_type": "code",
        "colab": {}
      },
      "source": [
        "A_new = np.matmul(U,Sig)"
      ],
      "execution_count": 0,
      "outputs": []
    },
    {
      "cell_type": "code",
      "metadata": {
        "id": "sJmOCf0kM2Wd",
        "colab_type": "code",
        "outputId": "35e39094-eb46-41f0-9804-0113fcf202bb",
        "colab": {
          "base_uri": "https://localhost:8080/",
          "height": 35
        }
      },
      "source": [
        "A_new.shape"
      ],
      "execution_count": 0,
      "outputs": [
        {
          "output_type": "execute_result",
          "data": {
            "text/plain": [
              "(150, 1)"
            ]
          },
          "metadata": {
            "tags": []
          },
          "execution_count": 168
        }
      ]
    },
    {
      "cell_type": "code",
      "metadata": {
        "id": "CBJ2zcvEM2T9",
        "colab_type": "code",
        "colab": {}
      },
      "source": [
        "X_train, X_test, y_train, y_test = train_test_split(A_new,iris_data.target,test_size=0.25,random_state=0)"
      ],
      "execution_count": 0,
      "outputs": []
    },
    {
      "cell_type": "code",
      "metadata": {
        "id": "D1T73RYkM2RB",
        "colab_type": "code",
        "outputId": "83aa90b6-505b-40c8-dbfe-1f733eae81ea",
        "colab": {
          "base_uri": "https://localhost:8080/",
          "height": 35
        }
      },
      "source": [
        "from sklearn.neighbors import KNeighborsClassifier\n",
        "\n",
        "knn = KNeighborsClassifier(n_neighbors=1)\n",
        "knn.fit(X_train,y_train)\n",
        "\n",
        "perc_accu = knn.score(X_test,y_test) * 100\n",
        "print(f\"perc accu : {perc_accu}\")"
      ],
      "execution_count": 0,
      "outputs": [
        {
          "output_type": "stream",
          "text": [
            "perc accu : 76.31578947368422\n"
          ],
          "name": "stdout"
        }
      ]
    },
    {
      "cell_type": "code",
      "metadata": {
        "id": "raK_7gQbXky5",
        "colab_type": "code",
        "outputId": "b615fdc6-1e75-436f-f2c7-cf27877be035",
        "colab": {
          "base_uri": "https://localhost:8080/",
          "height": 265
        }
      },
      "source": [
        "fig = plt.figure()\n",
        "ax1 = fig.add_subplot(111)\n",
        "\n",
        "f1x=list()\n",
        "f1y=list()\n",
        "f2x=list()\n",
        "f2y=list()\n",
        "f3x=list()\n",
        "f3y=list()\n",
        "\n",
        "Xax=X_train[:,0]\n",
        "Yax=X_train[:,0]\n",
        "# Yax = [i for i in range(len(Xax))]\n",
        "\n",
        "for (i,j) in zip(Xax,Yax):\n",
        "    \n",
        "    var = knn.predict([[i]])\n",
        "    \n",
        "    if var==0:\n",
        "        f1x.append(i)\n",
        "        f1y.append(j)\n",
        "        \n",
        "    elif var==1:\n",
        "        f2x.append(i)\n",
        "        f2y.append(j)\n",
        "        \n",
        "    else:\n",
        "        f3x.append(i)\n",
        "        f3y.append(j)\n",
        "        \n",
        "ax1.scatter(f1y, f1x, s=40, alpha=0.4, c='b', marker=\"*\", label='setosa')\n",
        "ax1.scatter(f2y, f2x, s=40, alpha=0.4, c='r', marker=\"o\", label='versicolor')\n",
        "ax1.scatter(f3y, f3x, s=40, alpha=0.4, c='g', marker=\"+\", label='virginica')\n",
        "\n",
        "plt.show()"
      ],
      "execution_count": 0,
      "outputs": [
        {
          "output_type": "display_data",
          "data": {
            "image/png": "[encoded data removed]",
            "text/plain": [
              "<Figure size 432x288 with 1 Axes>"
            ]
          },
          "metadata": {
            "tags": []
          }
        }
      ]
    },
    {
      "cell_type": "markdown",
      "metadata": {
        "id": "_ocpZDDnYTIj",
        "colab_type": "text"
      },
      "source": [
        "##### Now using only one singular value the blue class is still separable but there is very high intermixing of red and green classes and there are no sharp decision boundaries in this case"
      ]
    },
    {
      "cell_type": "markdown",
      "metadata": {
        "id": "nI1TPP7JQyLi",
        "colab_type": "text"
      },
      "source": [
        "##### Hence we got an expected decrease in the accuracy as we avoid the second singular value which indeed is small than first but contributes resonable due to its high magnitude as compared to the remaining last two"
      ]
    },
    {
      "cell_type": "code",
      "metadata": {
        "id": "HLZGZX_dM2MM",
        "colab_type": "code",
        "colab": {}
      },
      "source": [
        ""
      ],
      "execution_count": 0,
      "outputs": []
    },
    {
      "cell_type": "code",
      "metadata": {
        "id": "Pby8ipAMS3iq",
        "colab_type": "code",
        "colab": {}
      },
      "source": [
        ""
      ],
      "execution_count": 0,
      "outputs": []
    },
    {
      "cell_type": "code",
      "metadata": {
        "id": "AeVvlADWTFkw",
        "colab_type": "code",
        "colab": {}
      },
      "source": [
        ""
      ],
      "execution_count": 0,
      "outputs": []
    }
  ]
}